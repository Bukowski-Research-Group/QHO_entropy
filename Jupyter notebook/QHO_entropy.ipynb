{
 "cells": [
  {
   "cell_type": "code",
   "execution_count": 1,
   "metadata": {},
   "outputs": [],
   "source": [
    "#######################\n",
    "#\n",
    "# Brandon C. Bukowski\n",
    "# Mingze Zheng\n",
    "# Yanqi Huang\n",
    "# Geet Gupta\n",
    "# Johns Hopkins University\n",
    "# 04/12/2024\n",
    "# Version 0.9\n",
    "#\n",
    "# Citations:\n",
    "# Kabsch rotations: https://github.com/charnley/rmsd\n",
    "# VACF: Stefan Bringuier https://zenodo.org/records/5261318 DOI: 10.5281/zenodo.5261318\n",
    "# QHO: Alexopoulos, K. et al. 10.1021/acs.jpcc.6b00923\n",
    "# Application: Bukowski B.C. et al. 10.1016/j.jcat.2018.07.012 \n",
    "import numpy as np\n",
    "from ase.io import read, write\n",
    "from ase.visualize import view\n",
    "import matplotlib.pyplot as plt\n",
    "import scipy\n",
    "from scipy import signal"
   ]
  },
  {
   "cell_type": "code",
   "execution_count": 16,
   "metadata": {},
   "outputs": [],
   "source": [
    "MD_filepath = \"prod_aimd/W_g.xyz\"\n",
    "tau = 2.0\n",
    "vacf_mode = \"Vib\"\n",
    "dt = 0.5e-15\n",
    "T = 300\n",
    "z_padding = 15\n",
    "# a value of 0 will lead to 3N modes being calculated later\n",
    "DoFs = 3\n",
    "###############\n",
    "# Parameters\n",
    "# TO-DO - merge into argparse when moving to standalone version\n",
    "#\n",
    "\n",
    "# standard ASE filetypes are supported\n",
    "\n",
    "\n",
    "# correlation time constant to calculate VACF\n",
    "# default is 2, which corresponds to a correlation length of len(trajectory) / 2 \n",
    "# this is usually acceptable\n",
    "\n",
    "\n",
    "# choose which DoF velocities to analyze\n",
    "# \"Total\" -- translation + rotation + vibration\n",
    "# \"Resid\" -- rotation + vibration\n",
    "# \"Vib\"   -- vibration\n",
    "# keep in mind rotation is ideal gas total rotation.\n",
    "# Recommended usage - for gas-phase molecules use \"Vib\" to avoid double-counting rotational modes\n",
    "#                   - for adsorbate molecules use \"Resid\" or \"Total\" to use QHO approximation for all modes\n",
    "# unknown strings default to \"Total\" and return an error\n",
    "\n",
    "\n",
    "# timestep in units \"s\"\n",
    "\n",
    "\n",
    "# number of zeros to pad FFT to increase resolution. Note this does not increase accuracy. \n",
    "# default is usually acceptable\n",
    "\n",
    "\n",
    "# Temperature in units \"K\"\n",
    "\n",
    "\n",
    "# Degrees of freedom to be multiplied by. Defaults to 3N, but it may be necessary to adjust this \n",
    "# for example if calculating QHO modes of a gas phase molecule, you may need to calculate 3N-6 modes\n"
   ]
  },
  {
   "cell_type": "code",
   "execution_count": 17,
   "metadata": {},
   "outputs": [],
   "source": [
    "##############\n",
    "#\n",
    "# Important notes - the input file should be pre-processed to only include production data on the adsorbate of interest\n",
    "# It is your responsibility to ensure the simulation is properly equilibrated - non-equilibrium structures will change the VDOS\n",
    "# and lead to larger than expect translational, rotational, and vibrational contributions to the VDOS\n",
    "#\n",
    "# Remove any atoms that are not of interest for determining the entropy, i.e. surfaces, solids, solvents, etc. \n",
    "# Each unique molecule type should be calculated separately\n",
    "#\n",
    "# You must ensure that this trajectory does not include discontinuities around periodic boundaries\n",
    "# i.e. the trajectory should be \"unwrapped\". There are existing software that can perform this action.\n",
    "#\n",
    "################\n",
    "\n",
    "images = read(MD_filepath, index=\"-15000:\")"
   ]
  },
  {
   "cell_type": "code",
   "execution_count": 18,
   "metadata": {},
   "outputs": [],
   "source": [
    "def remove_COM_motion(images):\n",
    "    \"\"\"\n",
    "    Takes a set of images, removes their COM motion, and returns the COM velocities\n",
    "    \n",
    "    Returns:\n",
    "    modified set of images\n",
    "    V_COM - center of mass velocities\n",
    "    V_total - velocities of all atoms\n",
    "    \"\"\"\n",
    "    len_molec = len(images[0]) # number of atoms\n",
    "    \n",
    "    # translate every image to the initial COM\n",
    "    i_box = images[0].get_center_of_mass()\n",
    "    for image in images:\n",
    "        image.positions -= i_box  \n",
    "        \n",
    "    V_total = np.zeros((len(images),len_molec,3))\n",
    "    V_COM = np.zeros((V_total.shape))\n",
    "\n",
    "    for i in range(len(images)):\n",
    "        if i == 0:\n",
    "            V_total[i] = np.zeros((len_molec,3))\n",
    "            V_COM[i] = np.zeros((len_molec,3))\n",
    "        else:\n",
    "            V_total[i,:,:] = images[i].positions - images[i-1].positions\n",
    "            V_COM[i,:,:] = images[i].get_center_of_mass() - images[i-1].get_center_of_mass()\n",
    "\n",
    "    V_total_sum = np.zeros((V_total.shape))\n",
    "    V_COM_sum = np.zeros((V_COM.shape))\n",
    "    \n",
    "    for i in range(len(V_total[:,0,0])):\n",
    "        V_total_sum[i] = np.sum(V_total[:i+1,:,:], axis=0)\n",
    "        V_COM_sum[i] = np.sum(V_COM[:i+1,:,:], axis=0)\n",
    "\n",
    "    for i in range(len(images[:])):\n",
    "        images[i].positions -= V_COM_sum[i]\n",
    "        \n",
    "    return images, V_COM, V_total"
   ]
  },
  {
   "cell_type": "code",
   "execution_count": 19,
   "metadata": {},
   "outputs": [],
   "source": [
    "def remove_rotational_motion(images):\n",
    "    \"\"\"\n",
    "    Takes a set of images, removes their principal rotations, and returns the vibrational velocities\n",
    "    \n",
    "    Returns:\n",
    "    modified set of images\n",
    "    V_vib - vibrational velocities, no COM or rotational motion\n",
    "    \n",
    "    algorithm from: \n",
    "    https://en.wikipedia.org/wiki/Kabsch_algorithm\n",
    "    heavily inspired by Charnely RMSD package\n",
    "    https://github.com/charnley/rmsd    \n",
    "    \"\"\"\n",
    "    def kabsch(init, final):\n",
    "        Q_C = init.positions.mean(axis=0)\n",
    "        P_C = final.positions.mean(axis=0)\n",
    "        Q = init.positions - Q_C\n",
    "        P = final.positions - P_C\n",
    "\n",
    "        H = np.dot(np.transpose(P), Q)    #  C\n",
    "        U, S, V = np.linalg.svd(H)  # V S W\n",
    "        d = np.linalg.det(U)*np.linalg.det(V) < 0.0\n",
    "        if d:\n",
    "            U[:,-1] = -U[:,-1]\n",
    "\n",
    "        R = np.dot(U, V)\n",
    "\n",
    "        P = np.dot(P, R)\n",
    "        P += Q_C\n",
    "        return P\n",
    "\n",
    "    len_molec = len(images[0]) # number of atoms\n",
    "    for image in images[1:]:\n",
    "        image.positions = kabsch(images[0], image)\n",
    "\n",
    "    V_vib = np.zeros((len(images),len_molec,3))\n",
    "\n",
    "    for i in range(len(images)):\n",
    "        if i == 0:\n",
    "            V_vib[i] = np.zeros((len_molec,3))\n",
    "        else:\n",
    "            V_vib[i,:,:] = images[i].positions - images[i-1].positions\n",
    "            \n",
    "    return images, V_vib"
   ]
  },
  {
   "cell_type": "code",
   "execution_count": 20,
   "metadata": {},
   "outputs": [],
   "source": [
    "def call_vacf(data, correlation_length, masses):\n",
    "    \"\"\"\n",
    "    Takes a set of velocities, the VACF length, and the masses to return the VACF\n",
    "    \n",
    "    Returns:\n",
    "    Normalized mass-weighted velocity autocorrelation function for a given set of velocities\n",
    "    \n",
    "    algorithm adapted from: \n",
    "    VACF: Stefan Bringuier https://zenodo.org/records/5261318 DOI: 10.5281/zenodo.5261318  \n",
    "    \"\"\"    \n",
    "    def autocorr(X):\n",
    "        out = np.correlate(X, X, mode='full')\n",
    "        return out[out.size // 2:]\n",
    "    \n",
    "    len_images = len(data[:,0,0])\n",
    "    total_VACF = np.zeros(correlation_length)\n",
    "    \n",
    "    blocks = range(correlation_length, len_images+1, correlation_length)\n",
    "    \n",
    "    for t in blocks:\n",
    "        for j, ms in enumerate(masses):\n",
    "            for i in range(3):\n",
    "                total_VACF += autocorr(ms * data[t-correlation_length:t, j, i])\n",
    "    total_VACF /= total_VACF[0]\n",
    "    time = np.arange(correlation_length)\n",
    "    return time, total_VACF"
   ]
  },
  {
   "cell_type": "code",
   "execution_count": 21,
   "metadata": {},
   "outputs": [],
   "source": [
    "def call_fft(vacf, pad_factor, dt, correlation):\n",
    "    \"\"\"\n",
    "    Takes a VACF and returns the VDOS. Note this is set up to use a Hanning window\n",
    "    There are many possible window functions in discrete signal processing that can be used\n",
    "    It is worth taking a look at the trade-offs between peak accuracy and peak spillage \n",
    "    depending on your choice of window function. In our testing, this is a critically important\n",
    "    factor in how the VDOS is calculated. \n",
    "    \n",
    "    parameters:\n",
    "    pad factor - how much zero-padding to use in the FFT\n",
    "    dt - timestep in \"s\"\n",
    "    correlation - the correlation length of the VACF\n",
    "    \n",
    "    Returns:\n",
    "    unnormalized VDOS for a given VACF using a Hanning window function\n",
    "    \n",
    "    algorithm adapted from: \n",
    "    VACF: Stefan Bringuier https://zenodo.org/records/5261318 DOI: 10.5281/zenodo.5261318  \n",
    "    \"\"\" \n",
    "    def fft_autocorr(AutoCorr, dt):\n",
    "        fft_arry = np.fft.rfft(AutoCorr, norm=\"ortho\") * dt\n",
    "        return fft_arry    \n",
    "    \n",
    "    windowed_vacf = vacf * np.hanning(vacf.size)\n",
    "    windowed_vacf_v = np.lib.pad(windowed_vacf, (0, vacf.size * pad_factor), \"constant\", constant_values=(0))\n",
    "    freq = np.fft.rfftfreq(windowed_vacf_v.size, d=dt)*(1/299792458) /100 # convert to cm-1\n",
    "    fft_vacf = np.abs(fft_autocorr(windowed_vacf_v, dt))\n",
    "    return freq, fft_vacf"
   ]
  },
  {
   "cell_type": "code",
   "execution_count": 22,
   "metadata": {},
   "outputs": [],
   "source": [
    "def integrate_VDOS(fft_normed, freq, T, DoFs):\n",
    "    \"\"\"\n",
    "    Takes a normalized VDOS, then integrates with a QHO weight function.\n",
    "    \n",
    "    parameters:\n",
    "    T - temperature in K\n",
    "    DoFs - How many DoFs to integrate, usually an integer between 3N-6 and 3N\n",
    "      \n",
    "    Returns:\n",
    "    Entropy in J/mol/K\n",
    "    \n",
    "    Alexopoulos, K. et al. 10.1021/acs.jpcc.6b00923\n",
    "    Bukowski B.C. et al. 10.1016/j.jcat.2018.07.012 \n",
    "    \"\"\"     \n",
    "    def weight_function(freqs, T):\n",
    "        hbar = 6.62607015E-34\n",
    "        kT = (1.380649E-23*T) # J\n",
    "        x = hbar * freqs / (2*kT)\n",
    "        return x/np.tanh(x) - np.log(2*np.sinh(x))\n",
    "\n",
    "    freq_s = freq * 3e10\n",
    "    set_weighted = fft_normed[1:] * weight_function(freq_s[1:], T)\n",
    "    return np.trapz(set_weighted, x=freq[1:]) * DoFs * 8.314"
   ]
  },
  {
   "cell_type": "code",
   "execution_count": 23,
   "metadata": {},
   "outputs": [
    {
     "name": "stdout",
     "output_type": "stream",
     "text": [
      "1121\n",
      "2242\n",
      "3363\n",
      "4484\n",
      "5605\n",
      "6726\n"
     ]
    }
   ],
   "source": [
    "len_images = len(images)\n",
    "ncorr = int(np.floor(len(images) / 6))\n",
    "blocks = range(ncorr, len_images+1, ncorr)\n",
    "for block in blocks:\n",
    "    print(block)"
   ]
  },
  {
   "cell_type": "code",
   "execution_count": 24,
   "metadata": {},
   "outputs": [
    {
     "data": {
      "text/plain": [
       "Atoms(symbols='OH2', pbc=True, cell=[14.0, 15.0, 16.0])"
      ]
     },
     "execution_count": 24,
     "metadata": {},
     "output_type": "execute_result"
    }
   ],
   "source": [
    "images[0]"
   ]
  },
  {
   "cell_type": "code",
   "execution_count": 25,
   "metadata": {},
   "outputs": [],
   "source": [
    "view(images)\n",
    "# remove COM motion and calculate COM and total velocities\n",
    "images, V_COM, V_total = remove_COM_motion(images)\n",
    "# V_resid is the residual velocity after removing COM motion\n",
    "V_resid = V_total - V_COM\n",
    "# remove principal rotations to calculate vibrational velocity.\n",
    "# images are modified in-place\n",
    "#images, V_vib = remove_rotational_motion(images)"
   ]
  },
  {
   "cell_type": "code",
   "execution_count": 26,
   "metadata": {},
   "outputs": [
    {
     "ename": "NameError",
     "evalue": "name 'V_vib' is not defined",
     "output_type": "error",
     "traceback": [
      "\u001b[1;31m---------------------------------------------------------------------------\u001b[0m",
      "\u001b[1;31mNameError\u001b[0m                                 Traceback (most recent call last)",
      "Cell \u001b[1;32mIn[26], line 8\u001b[0m\n\u001b[0;32m      5\u001b[0m masses \u001b[38;5;241m=\u001b[39m images[\u001b[38;5;241m0\u001b[39m]\u001b[38;5;241m.\u001b[39mget_masses()\n\u001b[0;32m      7\u001b[0m \u001b[38;5;28;01mif\u001b[39;00m vacf_mode \u001b[38;5;241m==\u001b[39m \u001b[38;5;124m\"\u001b[39m\u001b[38;5;124mVib\u001b[39m\u001b[38;5;124m\"\u001b[39m:\n\u001b[1;32m----> 8\u001b[0m     times, VACF \u001b[38;5;241m=\u001b[39m call_vacf(\u001b[43mV_vib\u001b[49m, ncorr, masses)\n\u001b[0;32m      9\u001b[0m \u001b[38;5;28;01melif\u001b[39;00m vacf_mode \u001b[38;5;241m==\u001b[39m \u001b[38;5;124m\"\u001b[39m\u001b[38;5;124mResid\u001b[39m\u001b[38;5;124m\"\u001b[39m:\n\u001b[0;32m     10\u001b[0m     times, VACF \u001b[38;5;241m=\u001b[39m call_vacf(V_resid, ncorr, masses)\n",
      "\u001b[1;31mNameError\u001b[0m: name 'V_vib' is not defined"
     ]
    }
   ],
   "source": [
    "# ncorr is the length of the VACF. Typically, longer is better\n",
    "# though you want some blocks to average over. \n",
    "# I recommend tuning this value to find a converged result\n",
    "ncorr = int(np.floor(len(images) / tau))\n",
    "masses = images[0].get_masses()\n",
    "\n",
    "if vacf_mode == \"Vib\":\n",
    "    times, VACF = call_vacf(V_vib, ncorr, masses)\n",
    "elif vacf_mode == \"Resid\":\n",
    "    times, VACF = call_vacf(V_resid, ncorr, masses)\n",
    "elif vacf_mode == \"Total\":\n",
    "    times, VACF = call_vacf(V_total, ncorr, masses)\n",
    "else:\n",
    "    times, VACF = call_vacf(V_total, ncorr, masses)    "
   ]
  },
  {
   "cell_type": "code",
   "execution_count": null,
   "metadata": {},
   "outputs": [],
   "source": [
    "plt.plot(VACF)"
   ]
  },
  {
   "cell_type": "code",
   "execution_count": null,
   "metadata": {
    "scrolled": false
   },
   "outputs": [],
   "source": [
    "# create the initial VDOS called fft\n",
    "# due to spectral leakage, there may be a nonzero fft[0]\n",
    "# this is expected for a diffusing system, but problematic for vibrational modes\n",
    "# here we background subtract and save it as fft_bkg\n",
    "# the FFT is then normalized to 1 for integration\n",
    "\n",
    "freq, fft = call_fft(VACF, z_padding, dt, ncorr)\n",
    "fft_bkg = fft - (fft[0] / (1 + (freq)**2))\n",
    "fft_normed = fft_bkg / np.trapz(fft_bkg, x=freq)\n",
    "entropy = integrate_VDOS(fft_normed, freq, T, DoFs)\n",
    "print(f\"Entropy at {T} K with {DoFs} degrees of freedom: {entropy} J Mol-1 K-1\")"
   ]
  },
  {
   "cell_type": "code",
   "execution_count": 15,
   "metadata": {
    "scrolled": true
   },
   "outputs": [
    {
     "data": {
      "text/plain": [
       "Text(0, 0.5, 'normalized intensity')"
      ]
     },
     "execution_count": 15,
     "metadata": {},
     "output_type": "execute_result"
    },
    {
     "data": {
      "image/png": "[encoded data removed]",
      "text/plain": [
       "<Figure size 640x480 with 1 Axes>"
      ]
     },
     "metadata": {},
     "output_type": "display_data"
    }
   ],
   "source": [
    "plt.plot(freq, fft_normed)\n",
    "plt.xlim(0, 4000)\n",
    "plt.ylim(0, np.max(fft_normed))\n",
    "plt.xlabel(\"cm^-1\")\n",
    "plt.ylabel(\"normalized intensity\")"
   ]
  },
  {
   "cell_type": "code",
   "execution_count": 48,
   "metadata": {},
   "outputs": [
    {
     "data": {
      "text/plain": [
       "<Popen: returncode: None args: ['C:\\\\Users\\\\bcbuk\\\\anaconda3\\\\python.exe', '...>"
      ]
     },
     "execution_count": 48,
     "metadata": {},
     "output_type": "execute_result"
    }
   ],
   "source": [
    "view(images)"
   ]
  },
  {
   "cell_type": "code",
   "execution_count": null,
   "metadata": {},
   "outputs": [],
   "source": []
  }
 ],
 "metadata": {
  "kernelspec": {
   "display_name": "Python 3 (ipykernel)",
   "language": "python",
   "name": "python3"
  },
  "language_info": {
   "codemirror_mode": {
    "name": "ipython",
    "version": 3
   },
   "file_extension": ".py",
   "mimetype": "text/x-python",
   "name": "python",
   "nbconvert_exporter": "python",
   "pygments_lexer": "ipython3",
   "version": "3.10.9"
  }
 },
 "nbformat": 4,
 "nbformat_minor": 4
}
